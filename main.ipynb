{
 "cells": [
  {
   "cell_type": "markdown",
   "metadata": {},
   "source": [
    "- [x] 01 Jornalista quer saber a classificação do eleitorado a partir do estado civil, escolaridade e faixa etária, além da quantidade de eleitores que utilizam nome social\n",
    "- [ ] 02 Jornalista quer relacionar as características do eleitorado de acordo com o representante eleito em determinada região\n",
    "- [x] 03 Jornalista quer saber a renda média do eleitorado de determinada região\n",
    "- [x] 04 Jornalista quer saber, daquela região, a cidade com mais eleitores jovem e mais eleitores idosos\n",
    "- [x] 05 Jornalista quer comparar a renda média de eleitores do Vale do Paraíba com a de outras regiões do Estado\n",
    "- [ ] 06 Jornalista quer automatizar a exportação das estatísticas\n",
    "- [ ] 07 Jornalista quer poder relacionar características do eleitorado de acordo com o representante eleito em determinada região de eleições futuras\n",
    "- [ ] 08 Jornalista quer saber a percentagem de eleitores ausentes da última eleição\n",
    "- [x] 09 Jornalista quer saber a evolução do número de eleitores\n",
    "- [x] 10 Jornalista quer a análise de dados feita em Jupyter Notebook"
   ]
  },
  {
   "cell_type": "code",
   "execution_count": null,
   "metadata": {},
   "outputs": [],
   "source": [
    "import pandas as pd\n",
    "import plotly.express as px\n",
    "pd.options.plotting.backend = \"plotly\"\n"
   ]
  },
  {
   "cell_type": "code",
   "execution_count": null,
   "metadata": {},
   "outputs": [],
   "source": [
    "arquivo_eleitorado = './data/perfil_eleitorado_ATUAL.csv'\n",
    "col_eleitorado = [\"ANO_ELEICAO\", \"SG_UF\", \"NM_MUNICIPIO\", \"DS_ESTADO_CIVIL\", \"CD_FAIXA_ETARIA\", \"DS_FAIXA_ETARIA\",\n",
    "                  \"CD_GRAU_ESCOLARIDADE\", \"DS_GRAU_ESCOLARIDADE\", \"QT_ELEITORES_PERFIL\", \"QT_ELEITORES_INC_NM_SOCIAL\"]\n",
    "\n",
    "df_eleitores = pd.read_csv(arquivo_eleitorado, usecols=col_eleitorado,\n",
    "                           sep=';', encoding='iso-8859-1', error_bad_lines=False)\n"
   ]
  },
  {
   "cell_type": "code",
   "execution_count": null,
   "metadata": {},
   "outputs": [],
   "source": [
    "classificacao_estado_civil = df_eleitores['DS_ESTADO_CIVIL'].value_counts(\n",
    ").rename_axis('estado_civil').reset_index(name='counts')\n",
    "\n",
    "classificacao_estado_civil\n",
    "fig = px.bar(classificacao_estado_civil, x='estado_civil',\n",
    "             y='counts', title='Classificacao por estado civil')\n",
    "fig.show()\n"
   ]
  },
  {
   "cell_type": "code",
   "execution_count": null,
   "metadata": {},
   "outputs": [],
   "source": [
    "classificacao_grau_escolaridade = df_eleitores['DS_GRAU_ESCOLARIDADE'].value_counts(\n",
    ").rename_axis('grau_escolaridade').reset_index(name='counts')\n",
    "\n",
    "classificacao_grau_escolaridade\n",
    "fig = px.bar(classificacao_grau_escolaridade, x='grau_escolaridade',\n",
    "             y='counts', title='Classificacao por grau de escolaridade')\n",
    "fig.show()\n"
   ]
  },
  {
   "cell_type": "code",
   "execution_count": null,
   "metadata": {},
   "outputs": [],
   "source": [
    "classificacao_faixa_etaria = df_eleitores['DS_FAIXA_ETARIA'].value_counts(\n",
    ").rename_axis('faixa_etaria').reset_index(name='counts')\n",
    "\n",
    "classificacao_faixa_etaria\n",
    "fig = px.bar(classificacao_faixa_etaria, x='faixa_etaria',\n",
    "             y='counts', title='Classificacao por faixa etaria')\n",
    "fig.show()\n"
   ]
  },
  {
   "cell_type": "code",
   "execution_count": null,
   "metadata": {},
   "outputs": [],
   "source": [
    "# 03 Jornalista quer saber a renda média do eleitorado de determinada região\n",
    "\n",
    "arquivo_salarios = './data/Cadastro Central de Empresas.csv'\n",
    "cols_salario = ['Nome', 'Localidade', '2019']\n",
    "cidades_listadas = ['São José dos Campos',\n",
    "                    'São Paulo', 'Jacareí', 'São Bento do Sapucaí']\n",
    "df_salarios = pd.read_csv(\n",
    "    arquivo_salarios, usecols=cols_salario, sep=',', error_bad_lines=False)\n",
    "\n",
    "df_salarios_listados = df_salarios \\\n",
    "    .query('Nome == \"Salário médio mensal\"') \\\n",
    "    .query(f'Localidade in {cidades_listadas}')[['Localidade', '2019']] \\\n",
    "    .rename(columns={'Localidade': 'Cidade', '2019': 'Salario'}) \\\n",
    "    .sort_values(by='Salario', ascending=False)\n",
    "\n",
    "fig = px.bar(df_salarios_listados, x='Cidade', y='Salario',\n",
    "             title='Media salarial por cidade')\n",
    "fig.show()\n"
   ]
  },
  {
   "cell_type": "code",
   "execution_count": null,
   "metadata": {},
   "outputs": [],
   "source": [
    "# 05 Jornalista quer comparar a renda média de eleitores do Vale do Paraíba com a de outras regiões do Estado\n",
    "\n",
    "cobertura_vanguarda = {\n",
    "\n",
    "    \"APARECIDA\":               \"VALE DO PARAÍBA\",\n",
    "    \"CAÇAPAVA\":                \"VALE DO PARAÍBA\",\n",
    "    \"CACHOEIRA PAULISTA\":      \"VALE DO PARAÍBA\",\n",
    "    \"CANAS\":                   \"VALE DO PARAÍBA\",\n",
    "    \"CUNHA\":                   \"VALE DO PARAÍBA\",\n",
    "    \"GUARATINGUETÁ\":           \"VALE DO PARAÍBA\",\n",
    "    \"IGARATÁ\":                 \"VALE DO PARAÍBA\",\n",
    "    \"JACAREÍ\":                 \"VALE DO PARAÍBA\",\n",
    "    \"JAMBEIRO\":                \"VALE DO PARAÍBA\",\n",
    "    \"LAGOINHA\":                \"VALE DO PARAÍBA\",\n",
    "    \"LORENA\":                  \"VALE DO PARAÍBA\",\n",
    "    \"NATIVIDADE DA SERRA\":     \"VALE DO PARAÍBA\",\n",
    "    \"PARAIBUNA\":               \"VALE DO PARAÍBA\",\n",
    "    \"PINDAMONHANGABA\":         \"VALE DO PARAÍBA\",\n",
    "    \"PIQUETE\":                 \"VALE DO PARAÍBA\",\n",
    "    \"POTIM\":                   \"VALE DO PARAÍBA\",\n",
    "    \"REDENÇÃO DA SERRA\":       \"VALE DO PARAÍBA\",\n",
    "    \"ROSEIRA\":                 \"VALE DO PARAÍBA\",\n",
    "    \"SANTA BRANCA\":            \"VALE DO PARAÍBA\",\n",
    "    \"SÃO JOSÉ DOS CAMPOS\":     \"VALE DO PARAÍBA\",\n",
    "    \"SÃO LUÍS DO PARAITÍNGA\":  \"VALE DO PARAÍBA\",\n",
    "    \"TAUBATÉ\":                 \"VALE DO PARAÍBA\",\n",
    "    \"TREMEMBÉ\":                \"VALE DO PARAÍBA\",\n",
    "\n",
    "    \"ARAPEÍ\":                  \"VALE HISTÓRICO\",\n",
    "    \"AREIAS\":                  \"VALE HISTÓRICO\",\n",
    "    \"BANANAL\":                 \"VALE HISTÓRICO\",\n",
    "    \"CRUZEIRO\":                \"VALE HISTÓRICO\",\n",
    "    \"LAVRINHAS\":               \"VALE HISTÓRICO\",\n",
    "    \"QUELUZ\":                  \"VALE HISTÓRICO\",\n",
    "    \"SÃO JOSÉ DO BARREIRO\":    \"VALE HISTÓRICO\",\n",
    "    \"SILVEIRAS\":               \"VALE HISTÓRICO\",\n",
    "\n",
    "    \"CARAGUATATUBA\":           \"LITORAL NORTE\",\n",
    "    \"ILHABELA\":                \"LITORAL NORTE\",\n",
    "    \"SÃO SEBASTIÃO\":           \"LITORAL NORTE\",\n",
    "    \"UBATUBA\":                 \"LITORAL NORTE\",\n",
    "\n",
    "    \"CAMPOS DO JORDÃO\":        \"SERRA DA MANTIQUEIRA\",\n",
    "    \"MONTEIRO LOBATO\":         \"SERRA DA MANTIQUEIRA\",\n",
    "    \"SANTO ANTÔNIO DO PINHAL\": \"SERRA DA MANTIQUEIRA\",\n",
    "    \"SÃO BENTO DO SAPUCAÍ\":    \"SERRA DA MANTIQUEIRA\",\n",
    "\n",
    "    \"ATIBAIA\":                 \"REGIÃO BRAGANTINA\",\n",
    "    \"BOM JESUS DOS PERDÕES\":   \"REGIÃO BRAGANTINA\",\n",
    "    \"BRAGANÇA PAULISTA\":       \"REGIÃO BRAGANTINA\",\n",
    "    \"JOANÓPOLIS\":              \"REGIÃO BRAGANTINA\",\n",
    "    \"NAZARÉ PAULISTA\":         \"REGIÃO BRAGANTINA\",\n",
    "    \"PIRACAIA\":                \"REGIÃO BRAGANTINA\",\n",
    "    \"VARGEM\":                  \"REGIÃO BRAGANTINA\"\n",
    "\n",
    "}\n",
    "\n",
    "dfmc = pd.DataFrame(columns=[\"Localidade\", \"regiao\"])\n",
    "for cidade in cobertura_vanguarda.keys():\n",
    "    dfmc = dfmc.append(pd.DataFrame(\n",
    "        {\"Localidade\": [cidade], \"regiao\": [cobertura_vanguarda[cidade]]}))\n",
    "\n",
    "\n",
    "df_salarios['Localidade'] = df_salarios['Localidade'].str.upper()\n",
    "medias_salariais = df_salarios.query('Nome == \"Salário médio mensal\"')[['Localidade', '2019']].set_index(\n",
    "    'Localidade').join(dfmc.set_index('Localidade'), how='inner').groupby('regiao').mean().reset_index('regiao')\n",
    "fig = px.bar(medias_salariais, x='regiao', y='2019',\n",
    "             title='Media salarial das regioes')\n",
    "fig.show()\n"
   ]
  },
  {
   "cell_type": "code",
   "execution_count": null,
   "metadata": {},
   "outputs": [],
   "source": [
    "# 09 Jornalista quer saber a evolução do número de eleitores\n",
    "\n",
    "classificacao_ano_eleicao = df_eleitores['ANO_ELEICAO'].value_counts(\n",
    ").rename_axis('ano_eleicao').reset_index(name='counts')\n",
    "\n",
    "classificacao_ano_eleicao\n",
    "fig = px.bar(classificacao_ano_eleicao, x='ano_eleicao',\n",
    "             y='counts', title='Número de eleitores por ano')\n",
    "fig.show()\n"
   ]
  }
 ],
 "metadata": {
  "interpreter": {
   "hash": "916dbcbb3f70747c44a77c7bcd40155683ae19c65e1c03b4aa3499c5328201f1"
  },
  "kernelspec": {
   "display_name": "Python 3.8.10 64-bit",
   "language": "python",
   "name": "python3"
  },
  "language_info": {
   "codemirror_mode": {
    "name": "ipython",
    "version": 3
   },
   "file_extension": ".py",
   "mimetype": "text/x-python",
   "name": "python",
   "nbconvert_exporter": "python",
   "pygments_lexer": "ipython3",
   "version": "3.10.0"
  },
  "orig_nbformat": 4
 },
 "nbformat": 4,
 "nbformat_minor": 2
}
