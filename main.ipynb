{
 "cells": [
  {
   "cell_type": "markdown",
   "metadata": {},
   "source": [
    "- [x] 01 Jornalista quer saber a classificação do eleitorado a partir do estado civil, escolaridade e faixa etária, além da quantidade de eleitores que utilizam nome social\n",
    "- [ ] 02 Jornalista quer relacionar as características do eleitorado de acordo com o representante eleito em determinada região\n",
    "- [x] 03 Jornalista quer saber a renda média do eleitorado de determinada região\n",
    "- [x] 04 Jornalista quer saber, daquela região, a cidade com mais eleitores jovem e mais eleitores idosos\n",
    "- [x] 05 Jornalista quer comparar a renda média de eleitores do Vale do Paraíba com a de outras regiões do Estado\n",
    "- [ ] 06 Jornalista quer automatizar a exportação das estatísticas\n",
    "- [ ] 07 Jornalista quer poder relacionar características do eleitorado de acordo com o representante eleito em determinada região de eleições futuras\n",
    "- [ ] 08 Jornalista quer saber a percentagem de eleitores ausentes da última eleição\n",
    "- [x] 09 Jornalista quer saber a evolução do número de eleitores\n",
    "- [x] 10 Jornalista quer a análise de dados feita em Jupyter Notebook"
   ]
  },
  {
   "cell_type": "code",
   "execution_count": 2,
   "metadata": {},
   "outputs": [],
   "source": [
    "import pandas as pd\n",
    "import plotly.express as px\n",
    "\n",
    "pd.options.plotting.backend = \"plotly\"\n"
   ]
  },
  {
   "cell_type": "code",
   "execution_count": 3,
   "metadata": {},
   "outputs": [
    {
     "name": "stderr",
     "output_type": "stream",
     "text": [
      "/home/toledo/.local/lib/python3.10/site-packages/IPython/core/interactiveshell.py:3444: FutureWarning: The error_bad_lines argument has been deprecated and will be removed in a future version.\n",
      "\n",
      "\n",
      "  exec(code_obj, self.user_global_ns, self.user_ns)\n"
     ]
    }
   ],
   "source": [
    "col_eleitorado = [\n",
    "    \"ANO_ELEICAO\",\n",
    "    \"SG_UF\",\n",
    "    \"NM_MUNICIPIO\",\n",
    "    \"DS_ESTADO_CIVIL\",\n",
    "    \"CD_FAIXA_ETARIA\",\n",
    "    \"DS_FAIXA_ETARIA\",\n",
    "    \"CD_GRAU_ESCOLARIDADE\",\n",
    "    \"DS_GRAU_ESCOLARIDADE\",\n",
    "    \"QT_ELEITORES_PERFIL\",\n",
    "    \"QT_ELEITORES_INC_NM_SOCIAL\",\n",
    "]\n",
    "\n",
    "arquivo_eleitorado_2020 = \"./data/perfil_eleitorado_2020.csv\"\n",
    "arquivo_eleitorado_2016 = \"./data/perfil_eleitorado_2016.csv\"\n",
    "arquivo_eleitorado_2012 = \"./data/perfil_eleitorado_2012.csv\"\n",
    "\n",
    "df_eleitores_2020 = pd.read_csv(\n",
    "    arquivo_eleitorado_2020,\n",
    "    usecols=col_eleitorado,\n",
    "    sep=\";\",\n",
    "    encoding=\"iso-8859-1\",\n",
    "    error_bad_lines=False,\n",
    ")\n",
    "df_eleitores_2016 = pd.read_csv(\n",
    "    arquivo_eleitorado_2016,\n",
    "    usecols=col_eleitorado,\n",
    "    sep=\";\",\n",
    "    encoding=\"iso-8859-1\",\n",
    "    error_bad_lines=False,\n",
    ")\n",
    "df_eleitores_2012 = pd.read_csv(\n",
    "    arquivo_eleitorado_2012,\n",
    "    usecols=col_eleitorado,\n",
    "    sep=\";\",\n",
    "    encoding=\"iso-8859-1\",\n",
    "    error_bad_lines=False,\n",
    ")\n"
   ]
  },
  {
   "cell_type": "code",
   "execution_count": null,
   "metadata": {},
   "outputs": [],
   "source": [
    "classificacao_estado_civil = (\n",
    "    df_eleitores_2020[\"DS_ESTADO_CIVIL\"]\n",
    "    .value_counts()\n",
    "    .rename_axis(\"estado_civil\")\n",
    "    .reset_index(name=\"counts\")\n",
    ")\n",
    "\n",
    "classificacao_estado_civil\n",
    "fig = px.bar(\n",
    "    classificacao_estado_civil,\n",
    "    x=\"estado_civil\",\n",
    "    y=\"counts\",\n",
    "    title=\"Classificacao por estado civil\",\n",
    ")\n",
    "fig.show()\n"
   ]
  },
  {
   "cell_type": "code",
   "execution_count": null,
   "metadata": {},
   "outputs": [],
   "source": [
    "classificacao_grau_escolaridade = (\n",
    "    df_eleitores_2020[\"DS_GRAU_ESCOLARIDADE\"]\n",
    "    .value_counts()\n",
    "    .rename_axis(\"grau_escolaridade\")\n",
    "    .reset_index(name=\"counts\")\n",
    ")\n",
    "\n",
    "classificacao_grau_escolaridade\n",
    "fig = px.bar(\n",
    "    classificacao_grau_escolaridade,\n",
    "    x=\"grau_escolaridade\",\n",
    "    y=\"counts\",\n",
    "    title=\"Classificacao por grau de escolaridade\",\n",
    ")\n",
    "fig.show()\n"
   ]
  },
  {
   "cell_type": "code",
   "execution_count": null,
   "metadata": {},
   "outputs": [],
   "source": [
    "classificacao_faixa_etaria = (\n",
    "    df_eleitores_2020[\"DS_FAIXA_ETARIA\"]\n",
    "    .value_counts()\n",
    "    .rename_axis(\"faixa_etaria\")\n",
    "    .reset_index(name=\"counts\")\n",
    ")\n",
    "\n",
    "classificacao_faixa_etaria\n",
    "fig = px.bar(\n",
    "    classificacao_faixa_etaria,\n",
    "    x=\"faixa_etaria\",\n",
    "    y=\"counts\",\n",
    "    title=\"Classificacao por faixa etaria\",\n",
    ")\n",
    "fig.show()\n"
   ]
  },
  {
   "cell_type": "code",
   "execution_count": null,
   "metadata": {},
   "outputs": [],
   "source": [
    "# 03 Jornalista quer saber a renda média do eleitorado de determinada região\n",
    "\n",
    "arquivo_salarios = \"./data/Cadastro Central de Empresas.csv\"\n",
    "cols_salario = [\"Nome\", \"Localidade\", \"2019\"]\n",
    "cidades_listadas = [\n",
    "    \"São José dos Campos\",\n",
    "    \"São Paulo\",\n",
    "    \"Jacareí\",\n",
    "    \"São Bento do Sapucaí\",\n",
    "]\n",
    "df_salarios = pd.read_csv(\n",
    "    arquivo_salarios, usecols=cols_salario, sep=\",\", error_bad_lines=False\n",
    ")\n",
    "\n",
    "df_salarios_listados = (\n",
    "    df_salarios.query('Nome == \"Salário médio mensal\"')\n",
    "    .query(f\"Localidade in {cidades_listadas}\")[[\"Localidade\", \"2019\"]]\n",
    "    .rename(columns={\"Localidade\": \"Cidade\", \"2019\": \"Salario\"})\n",
    "    .sort_values(by=\"Salario\", ascending=False)\n",
    ")\n",
    "\n",
    "fig = px.bar(\n",
    "    df_salarios_listados, x=\"Cidade\", y=\"Salario\", title=\"Media salarial por cidade\"\n",
    ")\n",
    "fig.show()\n"
   ]
  },
  {
   "cell_type": "code",
   "execution_count": null,
   "metadata": {},
   "outputs": [],
   "source": [
    "# 05 Jornalista quer comparar a renda média de eleitores do Vale do Paraíba com a de outras regiões do Estado\n",
    "\n",
    "cobertura_vanguarda = {\n",
    "    \"APARECIDA\": \"VALE DO PARAÍBA\",\n",
    "    \"CAÇAPAVA\": \"VALE DO PARAÍBA\",\n",
    "    \"CACHOEIRA PAULISTA\": \"VALE DO PARAÍBA\",\n",
    "    \"CANAS\": \"VALE DO PARAÍBA\",\n",
    "    \"CUNHA\": \"VALE DO PARAÍBA\",\n",
    "    \"GUARATINGUETÁ\": \"VALE DO PARAÍBA\",\n",
    "    \"IGARATÁ\": \"VALE DO PARAÍBA\",\n",
    "    \"JACAREÍ\": \"VALE DO PARAÍBA\",\n",
    "    \"JAMBEIRO\": \"VALE DO PARAÍBA\",\n",
    "    \"LAGOINHA\": \"VALE DO PARAÍBA\",\n",
    "    \"LORENA\": \"VALE DO PARAÍBA\",\n",
    "    \"NATIVIDADE DA SERRA\": \"VALE DO PARAÍBA\",\n",
    "    \"PARAIBUNA\": \"VALE DO PARAÍBA\",\n",
    "    \"PINDAMONHANGABA\": \"VALE DO PARAÍBA\",\n",
    "    \"PIQUETE\": \"VALE DO PARAÍBA\",\n",
    "    \"POTIM\": \"VALE DO PARAÍBA\",\n",
    "    \"REDENÇÃO DA SERRA\": \"VALE DO PARAÍBA\",\n",
    "    \"ROSEIRA\": \"VALE DO PARAÍBA\",\n",
    "    \"SANTA BRANCA\": \"VALE DO PARAÍBA\",\n",
    "    \"SÃO JOSÉ DOS CAMPOS\": \"VALE DO PARAÍBA\",\n",
    "    \"SÃO LUÍS DO PARAITÍNGA\": \"VALE DO PARAÍBA\",\n",
    "    \"TAUBATÉ\": \"VALE DO PARAÍBA\",\n",
    "    \"TREMEMBÉ\": \"VALE DO PARAÍBA\",\n",
    "    \"ARAPEÍ\": \"VALE HISTÓRICO\",\n",
    "    \"AREIAS\": \"VALE HISTÓRICO\",\n",
    "    \"BANANAL\": \"VALE HISTÓRICO\",\n",
    "    \"CRUZEIRO\": \"VALE HISTÓRICO\",\n",
    "    \"LAVRINHAS\": \"VALE HISTÓRICO\",\n",
    "    \"QUELUZ\": \"VALE HISTÓRICO\",\n",
    "    \"SÃO JOSÉ DO BARREIRO\": \"VALE HISTÓRICO\",\n",
    "    \"SILVEIRAS\": \"VALE HISTÓRICO\",\n",
    "    \"CARAGUATATUBA\": \"LITORAL NORTE\",\n",
    "    \"ILHABELA\": \"LITORAL NORTE\",\n",
    "    \"SÃO SEBASTIÃO\": \"LITORAL NORTE\",\n",
    "    \"UBATUBA\": \"LITORAL NORTE\",\n",
    "    \"CAMPOS DO JORDÃO\": \"SERRA DA MANTIQUEIRA\",\n",
    "    \"MONTEIRO LOBATO\": \"SERRA DA MANTIQUEIRA\",\n",
    "    \"SANTO ANTÔNIO DO PINHAL\": \"SERRA DA MANTIQUEIRA\",\n",
    "    \"SÃO BENTO DO SAPUCAÍ\": \"SERRA DA MANTIQUEIRA\",\n",
    "    \"ATIBAIA\": \"REGIÃO BRAGANTINA\",\n",
    "    \"BOM JESUS DOS PERDÕES\": \"REGIÃO BRAGANTINA\",\n",
    "    \"BRAGANÇA PAULISTA\": \"REGIÃO BRAGANTINA\",\n",
    "    \"JOANÓPOLIS\": \"REGIÃO BRAGANTINA\",\n",
    "    \"NAZARÉ PAULISTA\": \"REGIÃO BRAGANTINA\",\n",
    "    \"PIRACAIA\": \"REGIÃO BRAGANTINA\",\n",
    "    \"VARGEM\": \"REGIÃO BRAGANTINA\",\n",
    "}\n",
    "\n",
    "dfmc = pd.DataFrame(columns=[\"Localidade\", \"regiao\"])\n",
    "for cidade in cobertura_vanguarda.keys():\n",
    "    dfmc = dfmc.append(\n",
    "        pd.DataFrame({\"Localidade\": [cidade], \"regiao\": [cobertura_vanguarda[cidade]]})\n",
    "    )\n",
    "\n",
    "\n",
    "df_salarios[\"Localidade\"] = df_salarios[\"Localidade\"].str.upper()\n",
    "medias_salariais = (\n",
    "    df_salarios.query('Nome == \"Salário médio mensal\"')[[\"Localidade\", \"2019\"]]\n",
    "    .set_index(\"Localidade\")\n",
    "    .join(dfmc.set_index(\"Localidade\"), how=\"inner\")\n",
    "    .groupby(\"regiao\")\n",
    "    .mean()\n",
    "    .reset_index(\"regiao\")\n",
    ")\n",
    "fig = px.bar(medias_salariais, x=\"regiao\", y=\"2019\", title=\"Media salarial das regioes\")\n",
    "fig.show()\n"
   ]
  },
  {
   "cell_type": "code",
   "execution_count": 11,
   "metadata": {},
   "outputs": [
    {
     "data": {
      "application/vnd.plotly.v1+json": {
       "config": {
        "plotlyServerURL": "https://plot.ly"
       },
       "data": [
        {
         "alignmentgroup": "True",
         "hovertemplate": "ano_eleicao=%{x}<br>counts=%{y}<extra></extra>",
         "legendgroup": "",
         "marker": {
          "color": "#636efa",
          "pattern": {
           "shape": ""
          }
         },
         "name": "",
         "offsetgroup": "",
         "orientation": "v",
         "showlegend": false,
         "textposition": "auto",
         "type": "bar",
         "x": [
          2020,
          2016,
          2012
         ],
         "xaxis": "x",
         "y": [
          4248094,
          4192936,
          3972346
         ],
         "yaxis": "y"
        }
       ],
       "layout": {
        "barmode": "relative",
        "legend": {
         "tracegroupgap": 0
        },
        "template": {
         "data": {
          "bar": [
           {
            "error_x": {
             "color": "#2a3f5f"
            },
            "error_y": {
             "color": "#2a3f5f"
            },
            "marker": {
             "line": {
              "color": "#E5ECF6",
              "width": 0.5
             },
             "pattern": {
              "fillmode": "overlay",
              "size": 10,
              "solidity": 0.2
             }
            },
            "type": "bar"
           }
          ],
          "barpolar": [
           {
            "marker": {
             "line": {
              "color": "#E5ECF6",
              "width": 0.5
             },
             "pattern": {
              "fillmode": "overlay",
              "size": 10,
              "solidity": 0.2
             }
            },
            "type": "barpolar"
           }
          ],
          "carpet": [
           {
            "aaxis": {
             "endlinecolor": "#2a3f5f",
             "gridcolor": "white",
             "linecolor": "white",
             "minorgridcolor": "white",
             "startlinecolor": "#2a3f5f"
            },
            "baxis": {
             "endlinecolor": "#2a3f5f",
             "gridcolor": "white",
             "linecolor": "white",
             "minorgridcolor": "white",
             "startlinecolor": "#2a3f5f"
            },
            "type": "carpet"
           }
          ],
          "choropleth": [
           {
            "colorbar": {
             "outlinewidth": 0,
             "ticks": ""
            },
            "type": "choropleth"
           }
          ],
          "contour": [
           {
            "colorbar": {
             "outlinewidth": 0,
             "ticks": ""
            },
            "colorscale": [
             [
              0,
              "#0d0887"
             ],
             [
              0.1111111111111111,
              "#46039f"
             ],
             [
              0.2222222222222222,
              "#7201a8"
             ],
             [
              0.3333333333333333,
              "#9c179e"
             ],
             [
              0.4444444444444444,
              "#bd3786"
             ],
             [
              0.5555555555555556,
              "#d8576b"
             ],
             [
              0.6666666666666666,
              "#ed7953"
             ],
             [
              0.7777777777777778,
              "#fb9f3a"
             ],
             [
              0.8888888888888888,
              "#fdca26"
             ],
             [
              1,
              "#f0f921"
             ]
            ],
            "type": "contour"
           }
          ],
          "contourcarpet": [
           {
            "colorbar": {
             "outlinewidth": 0,
             "ticks": ""
            },
            "type": "contourcarpet"
           }
          ],
          "heatmap": [
           {
            "colorbar": {
             "outlinewidth": 0,
             "ticks": ""
            },
            "colorscale": [
             [
              0,
              "#0d0887"
             ],
             [
              0.1111111111111111,
              "#46039f"
             ],
             [
              0.2222222222222222,
              "#7201a8"
             ],
             [
              0.3333333333333333,
              "#9c179e"
             ],
             [
              0.4444444444444444,
              "#bd3786"
             ],
             [
              0.5555555555555556,
              "#d8576b"
             ],
             [
              0.6666666666666666,
              "#ed7953"
             ],
             [
              0.7777777777777778,
              "#fb9f3a"
             ],
             [
              0.8888888888888888,
              "#fdca26"
             ],
             [
              1,
              "#f0f921"
             ]
            ],
            "type": "heatmap"
           }
          ],
          "heatmapgl": [
           {
            "colorbar": {
             "outlinewidth": 0,
             "ticks": ""
            },
            "colorscale": [
             [
              0,
              "#0d0887"
             ],
             [
              0.1111111111111111,
              "#46039f"
             ],
             [
              0.2222222222222222,
              "#7201a8"
             ],
             [
              0.3333333333333333,
              "#9c179e"
             ],
             [
              0.4444444444444444,
              "#bd3786"
             ],
             [
              0.5555555555555556,
              "#d8576b"
             ],
             [
              0.6666666666666666,
              "#ed7953"
             ],
             [
              0.7777777777777778,
              "#fb9f3a"
             ],
             [
              0.8888888888888888,
              "#fdca26"
             ],
             [
              1,
              "#f0f921"
             ]
            ],
            "type": "heatmapgl"
           }
          ],
          "histogram": [
           {
            "marker": {
             "pattern": {
              "fillmode": "overlay",
              "size": 10,
              "solidity": 0.2
             }
            },
            "type": "histogram"
           }
          ],
          "histogram2d": [
           {
            "colorbar": {
             "outlinewidth": 0,
             "ticks": ""
            },
            "colorscale": [
             [
              0,
              "#0d0887"
             ],
             [
              0.1111111111111111,
              "#46039f"
             ],
             [
              0.2222222222222222,
              "#7201a8"
             ],
             [
              0.3333333333333333,
              "#9c179e"
             ],
             [
              0.4444444444444444,
              "#bd3786"
             ],
             [
              0.5555555555555556,
              "#d8576b"
             ],
             [
              0.6666666666666666,
              "#ed7953"
             ],
             [
              0.7777777777777778,
              "#fb9f3a"
             ],
             [
              0.8888888888888888,
              "#fdca26"
             ],
             [
              1,
              "#f0f921"
             ]
            ],
            "type": "histogram2d"
           }
          ],
          "histogram2dcontour": [
           {
            "colorbar": {
             "outlinewidth": 0,
             "ticks": ""
            },
            "colorscale": [
             [
              0,
              "#0d0887"
             ],
             [
              0.1111111111111111,
              "#46039f"
             ],
             [
              0.2222222222222222,
              "#7201a8"
             ],
             [
              0.3333333333333333,
              "#9c179e"
             ],
             [
              0.4444444444444444,
              "#bd3786"
             ],
             [
              0.5555555555555556,
              "#d8576b"
             ],
             [
              0.6666666666666666,
              "#ed7953"
             ],
             [
              0.7777777777777778,
              "#fb9f3a"
             ],
             [
              0.8888888888888888,
              "#fdca26"
             ],
             [
              1,
              "#f0f921"
             ]
            ],
            "type": "histogram2dcontour"
           }
          ],
          "mesh3d": [
           {
            "colorbar": {
             "outlinewidth": 0,
             "ticks": ""
            },
            "type": "mesh3d"
           }
          ],
          "parcoords": [
           {
            "line": {
             "colorbar": {
              "outlinewidth": 0,
              "ticks": ""
             }
            },
            "type": "parcoords"
           }
          ],
          "pie": [
           {
            "automargin": true,
            "type": "pie"
           }
          ],
          "scatter": [
           {
            "marker": {
             "colorbar": {
              "outlinewidth": 0,
              "ticks": ""
             }
            },
            "type": "scatter"
           }
          ],
          "scatter3d": [
           {
            "line": {
             "colorbar": {
              "outlinewidth": 0,
              "ticks": ""
             }
            },
            "marker": {
             "colorbar": {
              "outlinewidth": 0,
              "ticks": ""
             }
            },
            "type": "scatter3d"
           }
          ],
          "scattercarpet": [
           {
            "marker": {
             "colorbar": {
              "outlinewidth": 0,
              "ticks": ""
             }
            },
            "type": "scattercarpet"
           }
          ],
          "scattergeo": [
           {
            "marker": {
             "colorbar": {
              "outlinewidth": 0,
              "ticks": ""
             }
            },
            "type": "scattergeo"
           }
          ],
          "scattergl": [
           {
            "marker": {
             "colorbar": {
              "outlinewidth": 0,
              "ticks": ""
             }
            },
            "type": "scattergl"
           }
          ],
          "scattermapbox": [
           {
            "marker": {
             "colorbar": {
              "outlinewidth": 0,
              "ticks": ""
             }
            },
            "type": "scattermapbox"
           }
          ],
          "scatterpolar": [
           {
            "marker": {
             "colorbar": {
              "outlinewidth": 0,
              "ticks": ""
             }
            },
            "type": "scatterpolar"
           }
          ],
          "scatterpolargl": [
           {
            "marker": {
             "colorbar": {
              "outlinewidth": 0,
              "ticks": ""
             }
            },
            "type": "scatterpolargl"
           }
          ],
          "scatterternary": [
           {
            "marker": {
             "colorbar": {
              "outlinewidth": 0,
              "ticks": ""
             }
            },
            "type": "scatterternary"
           }
          ],
          "surface": [
           {
            "colorbar": {
             "outlinewidth": 0,
             "ticks": ""
            },
            "colorscale": [
             [
              0,
              "#0d0887"
             ],
             [
              0.1111111111111111,
              "#46039f"
             ],
             [
              0.2222222222222222,
              "#7201a8"
             ],
             [
              0.3333333333333333,
              "#9c179e"
             ],
             [
              0.4444444444444444,
              "#bd3786"
             ],
             [
              0.5555555555555556,
              "#d8576b"
             ],
             [
              0.6666666666666666,
              "#ed7953"
             ],
             [
              0.7777777777777778,
              "#fb9f3a"
             ],
             [
              0.8888888888888888,
              "#fdca26"
             ],
             [
              1,
              "#f0f921"
             ]
            ],
            "type": "surface"
           }
          ],
          "table": [
           {
            "cells": {
             "fill": {
              "color": "#EBF0F8"
             },
             "line": {
              "color": "white"
             }
            },
            "header": {
             "fill": {
              "color": "#C8D4E3"
             },
             "line": {
              "color": "white"
             }
            },
            "type": "table"
           }
          ]
         },
         "layout": {
          "annotationdefaults": {
           "arrowcolor": "#2a3f5f",
           "arrowhead": 0,
           "arrowwidth": 1
          },
          "autotypenumbers": "strict",
          "coloraxis": {
           "colorbar": {
            "outlinewidth": 0,
            "ticks": ""
           }
          },
          "colorscale": {
           "diverging": [
            [
             0,
             "#8e0152"
            ],
            [
             0.1,
             "#c51b7d"
            ],
            [
             0.2,
             "#de77ae"
            ],
            [
             0.3,
             "#f1b6da"
            ],
            [
             0.4,
             "#fde0ef"
            ],
            [
             0.5,
             "#f7f7f7"
            ],
            [
             0.6,
             "#e6f5d0"
            ],
            [
             0.7,
             "#b8e186"
            ],
            [
             0.8,
             "#7fbc41"
            ],
            [
             0.9,
             "#4d9221"
            ],
            [
             1,
             "#276419"
            ]
           ],
           "sequential": [
            [
             0,
             "#0d0887"
            ],
            [
             0.1111111111111111,
             "#46039f"
            ],
            [
             0.2222222222222222,
             "#7201a8"
            ],
            [
             0.3333333333333333,
             "#9c179e"
            ],
            [
             0.4444444444444444,
             "#bd3786"
            ],
            [
             0.5555555555555556,
             "#d8576b"
            ],
            [
             0.6666666666666666,
             "#ed7953"
            ],
            [
             0.7777777777777778,
             "#fb9f3a"
            ],
            [
             0.8888888888888888,
             "#fdca26"
            ],
            [
             1,
             "#f0f921"
            ]
           ],
           "sequentialminus": [
            [
             0,
             "#0d0887"
            ],
            [
             0.1111111111111111,
             "#46039f"
            ],
            [
             0.2222222222222222,
             "#7201a8"
            ],
            [
             0.3333333333333333,
             "#9c179e"
            ],
            [
             0.4444444444444444,
             "#bd3786"
            ],
            [
             0.5555555555555556,
             "#d8576b"
            ],
            [
             0.6666666666666666,
             "#ed7953"
            ],
            [
             0.7777777777777778,
             "#fb9f3a"
            ],
            [
             0.8888888888888888,
             "#fdca26"
            ],
            [
             1,
             "#f0f921"
            ]
           ]
          },
          "colorway": [
           "#636efa",
           "#EF553B",
           "#00cc96",
           "#ab63fa",
           "#FFA15A",
           "#19d3f3",
           "#FF6692",
           "#B6E880",
           "#FF97FF",
           "#FECB52"
          ],
          "font": {
           "color": "#2a3f5f"
          },
          "geo": {
           "bgcolor": "white",
           "lakecolor": "white",
           "landcolor": "#E5ECF6",
           "showlakes": true,
           "showland": true,
           "subunitcolor": "white"
          },
          "hoverlabel": {
           "align": "left"
          },
          "hovermode": "closest",
          "mapbox": {
           "style": "light"
          },
          "paper_bgcolor": "white",
          "plot_bgcolor": "#E5ECF6",
          "polar": {
           "angularaxis": {
            "gridcolor": "white",
            "linecolor": "white",
            "ticks": ""
           },
           "bgcolor": "#E5ECF6",
           "radialaxis": {
            "gridcolor": "white",
            "linecolor": "white",
            "ticks": ""
           }
          },
          "scene": {
           "xaxis": {
            "backgroundcolor": "#E5ECF6",
            "gridcolor": "white",
            "gridwidth": 2,
            "linecolor": "white",
            "showbackground": true,
            "ticks": "",
            "zerolinecolor": "white"
           },
           "yaxis": {
            "backgroundcolor": "#E5ECF6",
            "gridcolor": "white",
            "gridwidth": 2,
            "linecolor": "white",
            "showbackground": true,
            "ticks": "",
            "zerolinecolor": "white"
           },
           "zaxis": {
            "backgroundcolor": "#E5ECF6",
            "gridcolor": "white",
            "gridwidth": 2,
            "linecolor": "white",
            "showbackground": true,
            "ticks": "",
            "zerolinecolor": "white"
           }
          },
          "shapedefaults": {
           "line": {
            "color": "#2a3f5f"
           }
          },
          "ternary": {
           "aaxis": {
            "gridcolor": "white",
            "linecolor": "white",
            "ticks": ""
           },
           "baxis": {
            "gridcolor": "white",
            "linecolor": "white",
            "ticks": ""
           },
           "bgcolor": "#E5ECF6",
           "caxis": {
            "gridcolor": "white",
            "linecolor": "white",
            "ticks": ""
           }
          },
          "title": {
           "x": 0.05
          },
          "xaxis": {
           "automargin": true,
           "gridcolor": "white",
           "linecolor": "white",
           "ticks": "",
           "title": {
            "standoff": 15
           },
           "zerolinecolor": "white",
           "zerolinewidth": 2
          },
          "yaxis": {
           "automargin": true,
           "gridcolor": "white",
           "linecolor": "white",
           "ticks": "",
           "title": {
            "standoff": 15
           },
           "zerolinecolor": "white",
           "zerolinewidth": 2
          }
         }
        },
        "title": {
         "text": "Número de eleitores por ano"
        },
        "xaxis": {
         "anchor": "y",
         "domain": [
          0,
          1
         ],
         "title": {
          "text": "ano_eleicao"
         }
        },
        "yaxis": {
         "anchor": "x",
         "domain": [
          0,
          1
         ],
         "title": {
          "text": "counts"
         }
        }
       }
      }
     },
     "metadata": {},
     "output_type": "display_data"
    }
   ],
   "source": [
    "# 09 Jornalista quer saber a evolução do número de eleitores\n",
    "\n",
    "classificacao_ano_eleicao = (\n",
    "    df_eleitores_2020.append(df_eleitores_2016)\n",
    "    .append(df_eleitores_2012)[\"ANO_ELEICAO\"]\n",
    "    .value_counts()\n",
    "    .rename_axis(\"ano_eleicao\")\n",
    "    .reset_index(name=\"counts\")\n",
    ")\n",
    "\n",
    "classificacao_ano_eleicao\n",
    "fig = px.bar(\n",
    "    classificacao_ano_eleicao,\n",
    "    x=\"ano_eleicao\",\n",
    "    y=\"counts\",\n",
    "    title=\"Número de eleitores por ano\",\n",
    ")\n",
    "fig.show()\n"
   ]
  }
 ],
 "metadata": {
  "interpreter": {
   "hash": "916dbcbb3f70747c44a77c7bcd40155683ae19c65e1c03b4aa3499c5328201f1"
  },
  "kernelspec": {
   "display_name": "Python 3.8.10 64-bit",
   "language": "python",
   "name": "python3"
  },
  "language_info": {
   "codemirror_mode": {
    "name": "ipython",
    "version": 3
   },
   "file_extension": ".py",
   "mimetype": "text/x-python",
   "name": "python",
   "nbconvert_exporter": "python",
   "pygments_lexer": "ipython3",
   "version": "3.10.0"
  },
  "orig_nbformat": 4
 },
 "nbformat": 4,
 "nbformat_minor": 2
}
